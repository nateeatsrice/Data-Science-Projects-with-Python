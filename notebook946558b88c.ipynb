{
 "cells": [
  {
   "cell_type": "code",
   "execution_count": 1,
   "id": "788e8093",
   "metadata": {
    "execution": {
     "iopub.execute_input": "2023-12-17T07:41:04.377982Z",
     "iopub.status.busy": "2023-12-17T07:41:04.377648Z",
     "iopub.status.idle": "2023-12-17T07:41:17.943256Z",
     "shell.execute_reply": "2023-12-17T07:41:17.942425Z"
    },
    "papermill": {
     "duration": 13.575961,
     "end_time": "2023-12-17T07:41:17.945848",
     "exception": false,
     "start_time": "2023-12-17T07:41:04.369887",
     "status": "completed"
    },
    "tags": []
   },
   "outputs": [
    {
     "name": "stderr",
     "output_type": "stream",
     "text": [
      "/opt/conda/lib/python3.10/site-packages/scipy/__init__.py:146: UserWarning: A NumPy version >=1.16.5 and <1.23.0 is required for this version of SciPy (detected version 1.24.3\n",
      "  warnings.warn(f\"A NumPy version >={np_minversion} and <{np_maxversion}\"\n"
     ]
    }
   ],
   "source": [
    "# This Python 3 environment comes with many helpful analytics libraries installed\n",
    "# It is defined by the kaggle/python Docker image: https://github.com/kaggle/docker-python\n",
    "# For example, here's several helpful packages to load\n",
    "\n",
    "import numpy as np # linear algebra\n",
    "import pandas as pd # data processing, CSV file I/O (e.g. pd.read_csv)\n",
    "import matplotlib.pyplot as plt\n",
    "import tensorflow as tf\n",
    "from tensorflow.keras import layers, models\n",
    "from tensorflow.keras.datasets import mnist\n",
    "from tensorflow.keras.utils import to_categorical\n",
    "from tensorflow.keras.preprocessing.image import ImageDataGenerator\n",
    "from PIL import Image, ImageEnhance, ImageFilter\n",
    "import numpy as np\n",
    "# Input data files are available in the read-only \"../input/\" directory\n",
    "# For example, running this (by clicking run or pressing Shift+Enter) will list all files under the input directory\n",
    "\n",
    "import os\n",
    "for dirname, _, filenames in os.walk('/kaggle/input'):\n",
    "    for filename in filenames:\n",
    "        print(os.path.join(dirname, filename))\n",
    "\n",
    "# You can write up to 20GB to the current directory (/kaggle/working/) that gets preserved as output when you create a version using \"Save & Run All\" \n",
    "# You can also write temporary files to /kaggle/temp/, but they won't be saved outside of the current session\n"
   ]
  },
  {
   "cell_type": "code",
   "execution_count": 2,
   "id": "10ddedaf",
   "metadata": {
    "execution": {
     "iopub.execute_input": "2023-12-17T07:41:17.960058Z",
     "iopub.status.busy": "2023-12-17T07:41:17.959466Z",
     "iopub.status.idle": "2023-12-17T07:41:18.446721Z",
     "shell.execute_reply": "2023-12-17T07:41:18.445808Z"
    },
    "papermill": {
     "duration": 0.49686,
     "end_time": "2023-12-17T07:41:18.449209",
     "exception": false,
     "start_time": "2023-12-17T07:41:17.952349",
     "status": "completed"
    },
    "tags": []
   },
   "outputs": [
    {
     "name": "stdout",
     "output_type": "stream",
     "text": [
      "Downloading data from https://storage.googleapis.com/tensorflow/tf-keras-datasets/mnist.npz\n",
      "11490434/11490434 [==============================] - 0s 0us/step\n"
     ]
    }
   ],
   "source": [
    "# Load and preprocess the MNIST dataset\n",
    "(train_images, train_labels), (test_images, test_labels) = mnist.load_data()\n",
    "train_images = train_images.reshape((60000, 28, 28, 1)).astype('float32') / 255\n",
    "test_images = test_images.reshape((10000, 28, 28, 1)).astype('float32') / 255\n",
    "\n",
    "train_labels = to_categorical(train_labels)\n",
    "test_labels = to_categorical(test_labels)\n"
   ]
  },
  {
   "cell_type": "code",
   "execution_count": 3,
   "id": "97619f22",
   "metadata": {
    "execution": {
     "iopub.execute_input": "2023-12-17T07:41:18.463725Z",
     "iopub.status.busy": "2023-12-17T07:41:18.463403Z",
     "iopub.status.idle": "2023-12-17T07:41:51.659804Z",
     "shell.execute_reply": "2023-12-17T07:41:51.658843Z"
    },
    "papermill": {
     "duration": 33.205756,
     "end_time": "2023-12-17T07:41:51.661750",
     "exception": false,
     "start_time": "2023-12-17T07:41:18.455994",
     "status": "completed"
    },
    "tags": []
   },
   "outputs": [
    {
     "name": "stdout",
     "output_type": "stream",
     "text": [
      "Epoch 1/5\n",
      "750/750 [==============================] - 14s 5ms/step - loss: 0.2065 - accuracy: 0.9376 - val_loss: 0.0748 - val_accuracy: 0.9786\n",
      "Epoch 2/5\n",
      "750/750 [==============================] - 3s 4ms/step - loss: 0.0568 - accuracy: 0.9822 - val_loss: 0.0544 - val_accuracy: 0.9836\n",
      "Epoch 3/5\n",
      "750/750 [==============================] - 3s 4ms/step - loss: 0.0392 - accuracy: 0.9876 - val_loss: 0.0436 - val_accuracy: 0.9872\n",
      "Epoch 4/5\n",
      "750/750 [==============================] - 3s 4ms/step - loss: 0.0311 - accuracy: 0.9904 - val_loss: 0.0424 - val_accuracy: 0.9881\n",
      "Epoch 5/5\n",
      "750/750 [==============================] - 3s 4ms/step - loss: 0.0252 - accuracy: 0.9920 - val_loss: 0.0410 - val_accuracy: 0.9881\n",
      "313/313 [==============================] - 1s 3ms/step - loss: 0.0308 - accuracy: 0.9904\n",
      "Test accuracy: 0.9904000163078308\n"
     ]
    }
   ],
   "source": [
    "# Build the basic neural network model\n",
    "model = models.Sequential()\n",
    "model.add(layers.Conv2D(32, (3, 3), activation='relu', input_shape=(28, 28, 1)))\n",
    "model.add(layers.MaxPooling2D((2, 2)))\n",
    "model.add(layers.Conv2D(64, (3, 3), activation='relu'))\n",
    "model.add(layers.MaxPooling2D((2, 2)))\n",
    "model.add(layers.Conv2D(64, (3, 3), activation='relu'))\n",
    "model.add(layers.Flatten())\n",
    "model.add(layers.Dense(64, activation='relu'))\n",
    "model.add(layers.Dense(10, activation='softmax'))\n",
    "\n",
    "# Compile the model\n",
    "model.compile(optimizer='adam',\n",
    "              loss='categorical_crossentropy',\n",
    "              metrics=['accuracy'])\n",
    "\n",
    "# Train the model\n",
    "model.fit(train_images, train_labels, epochs=5, batch_size=64, validation_split=0.2)\n",
    "\n",
    "# Evaluate the model on the test set\n",
    "test_loss, test_acc = model.evaluate(test_images, test_labels)\n",
    "print(f'Test accuracy: {test_acc}')"
   ]
  },
  {
   "cell_type": "code",
   "execution_count": 4,
   "id": "dbbe9b3e",
   "metadata": {
    "execution": {
     "iopub.execute_input": "2023-12-17T07:41:51.722645Z",
     "iopub.status.busy": "2023-12-17T07:41:51.722315Z",
     "iopub.status.idle": "2023-12-17T07:41:51.967408Z",
     "shell.execute_reply": "2023-12-17T07:41:51.966552Z"
    },
    "papermill": {
     "duration": 0.278068,
     "end_time": "2023-12-17T07:41:51.969369",
     "exception": false,
     "start_time": "2023-12-17T07:41:51.691301",
     "status": "completed"
    },
    "tags": []
   },
   "outputs": [
    {
     "data": {
      "image/png": "[encoded data removed]",
      "text/plain": [
       "<Figure size 640x480 with 1 Axes>"
      ]
     },
     "metadata": {},
     "output_type": "display_data"
    }
   ],
   "source": [
    "plotData = test_images[0,:,:,:]\n",
    "plotData = plotData.reshape(28, 28)\n",
    "plt.gray() # use this line if you don't want to see it in color\n",
    "plt.imshow(plotData)\n",
    "plt.show()"
   ]
  },
  {
   "cell_type": "code",
   "execution_count": 5,
   "id": "5352e1be",
   "metadata": {
    "execution": {
     "iopub.execute_input": "2023-12-17T07:41:52.028766Z",
     "iopub.status.busy": "2023-12-17T07:41:52.028489Z",
     "iopub.status.idle": "2023-12-17T07:41:52.032704Z",
     "shell.execute_reply": "2023-12-17T07:41:52.031880Z"
    },
    "papermill": {
     "duration": 0.035909,
     "end_time": "2023-12-17T07:41:52.034638",
     "exception": false,
     "start_time": "2023-12-17T07:41:51.998729",
     "status": "completed"
    },
    "tags": []
   },
   "outputs": [],
   "source": [
    "# brightness_value = 1000  # Set your desired brightness value (between 0 and 1)\n",
    "# #saturation_value = 0.5  # Set your desired saturation value (between 0 and 1)\n",
    "\n",
    "# test_datagen = ImageDataGenerator(\n",
    "#     brightness_range=[brightness_value, brightness_value],\n",
    "#     #saturation_range=[saturation_value, saturation_value],\n",
    "# )\n",
    "# batch_size=64\n",
    "# augmented_test_data = test_datagen.flow(test_images, test_labels, batch_size=batch_size, shuffle=False)\n",
    "\n",
    "# # Evaluate the model on the augmented test set\n",
    "# test_loss_augmented, test_acc_augmented = model.evaluate(augmented_test_data)\n",
    "# print(f'Test accuracy on augmented test set: {test_acc_augmented}')\n"
   ]
  },
  {
   "cell_type": "code",
   "execution_count": 6,
   "id": "669b5972",
   "metadata": {
    "execution": {
     "iopub.execute_input": "2023-12-17T07:41:52.093872Z",
     "iopub.status.busy": "2023-12-17T07:41:52.093581Z",
     "iopub.status.idle": "2023-12-17T07:41:52.102886Z",
     "shell.execute_reply": "2023-12-17T07:41:52.102088Z"
    },
    "papermill": {
     "duration": 0.041213,
     "end_time": "2023-12-17T07:41:52.104796",
     "exception": false,
     "start_time": "2023-12-17T07:41:52.063583",
     "status": "completed"
    },
    "tags": []
   },
   "outputs": [],
   "source": [
    "# Function to apply brightness using Pillow\n",
    "def apply_brightness(images, factor=1.5):\n",
    "    brightened_images = [ImageEnhance.Brightness(Image.fromarray(np.squeeze(image * 255).astype('uint8'))).enhance(factor) for image in images]\n",
    "    return np.array([np.array(image) / 255.0 for image in brightened_images])\n",
    "\n",
    "# Function to apply blur using Pillow\n",
    "def apply_blur(images, radius=2):\n",
    "    blurred_images = [Image.fromarray(np.squeeze(image * 255).astype('uint8')).filter(ImageFilter.GaussianBlur(radius)) for image in images]\n",
    "    return np.array([np.array(image) / 255.0 for image in blurred_images])\n",
    "\n",
    "# Function to apply noise using Pillow\n",
    "def apply_noise(images, factor=0.2):\n",
    "    noisy_images = [np.clip(image + factor * np.random.normal(loc=0, scale=1, size=image.shape), 0, 1.0) for image in images]\n",
    "    return np.array(noisy_images)\n",
    "\n",
    "# Function to apply contrast using Pillow\n",
    "def apply_contrast(images, factor=1.5):\n",
    "    enhanced_images = [ImageEnhance.Contrast(Image.fromarray(np.squeeze(image * 255).astype('uint8'))).enhance(factor) for image in images]\n",
    "    return np.array([np.array(image) / 255.0 for image in enhanced_images])\n",
    "\n"
   ]
  },
  {
   "cell_type": "code",
   "execution_count": 7,
   "id": "970667a2",
   "metadata": {
    "execution": {
     "iopub.execute_input": "2023-12-17T07:41:52.163428Z",
     "iopub.status.busy": "2023-12-17T07:41:52.163140Z",
     "iopub.status.idle": "2023-12-17T07:41:52.169433Z",
     "shell.execute_reply": "2023-12-17T07:41:52.168593Z"
    },
    "papermill": {
     "duration": 0.037792,
     "end_time": "2023-12-17T07:41:52.171212",
     "exception": false,
     "start_time": "2023-12-17T07:41:52.133420",
     "status": "completed"
    },
    "tags": []
   },
   "outputs": [],
   "source": [
    "def augment_data(brightness_factor,blur_radius,noise_factor, contrast_factor):\n",
    "    # Adjust the brightness factor\n",
    "    brightness_factor = brightness_factor  # Set the desired brightness factor, original = 1\n",
    "    brightened_test_images = apply_brightness(test_images, brightness_factor)\n",
    "\n",
    "    # Adjust the blur radius\n",
    "    blur_radius = blur_radius  # Set the desired blur radius, original = 0 \n",
    "    blurred_and_brightened_test_images = apply_blur(brightened_test_images, blur_radius)\n",
    "\n",
    "    # Adjust the noise factor\n",
    "    noise_factor = noise_factor  # Set the desired noise factor, original = 0\n",
    "    noisy_blurred_and_brightened_test_images = apply_noise(blurred_and_brightened_test_images, noise_factor)\n",
    "\n",
    "    # Adjust the contrast factor\n",
    "    contrast_factor = contrast_factor  # Set the desired contrast factor, original = 1\n",
    "    final_augmented_test_images = apply_contrast(noisy_blurred_and_brightened_test_images, contrast_factor)\n",
    "\n",
    "    # Ensure that the final augmented test images have the correct shape\n",
    "    final_augmented_test_images_with_channel = np.expand_dims(final_augmented_test_images, axis=-1)\n",
    "\n",
    "    # Evaluate the model on the fully augmented test set\n",
    "    test_loss_augmented, test_acc_augmented = model.evaluate(final_augmented_test_images_with_channel, test_labels)\n",
    "    print(f'Test accuracy on fully augmented test set: {test_acc_augmented}')"
   ]
  },
  {
   "cell_type": "code",
   "execution_count": 8,
   "id": "62b6d9a3",
   "metadata": {
    "execution": {
     "iopub.execute_input": "2023-12-17T07:41:52.229954Z",
     "iopub.status.busy": "2023-12-17T07:41:52.229653Z",
     "iopub.status.idle": "2023-12-17T07:41:58.015619Z",
     "shell.execute_reply": "2023-12-17T07:41:58.014661Z"
    },
    "papermill": {
     "duration": 5.818125,
     "end_time": "2023-12-17T07:41:58.017999",
     "exception": false,
     "start_time": "2023-12-17T07:41:52.199874",
     "status": "completed"
    },
    "tags": []
   },
   "outputs": [
    {
     "name": "stdout",
     "output_type": "stream",
     "text": [
      "313/313 [==============================] - 1s 3ms/step - loss: 4.3698 - accuracy: 0.1066\n",
      "Test accuracy on fully augmented test set: 0.10660000145435333\n"
     ]
    }
   ],
   "source": [
    "augment_data(1.5,.1,10,1.5)"
   ]
  },
  {
   "cell_type": "code",
   "execution_count": 9,
   "id": "e5593787",
   "metadata": {
    "execution": {
     "iopub.execute_input": "2023-12-17T07:41:58.081065Z",
     "iopub.status.busy": "2023-12-17T07:41:58.080769Z",
     "iopub.status.idle": "2023-12-17T07:42:03.765788Z",
     "shell.execute_reply": "2023-12-17T07:42:03.764952Z"
    },
    "papermill": {
     "duration": 5.718598,
     "end_time": "2023-12-17T07:42:03.767659",
     "exception": false,
     "start_time": "2023-12-17T07:41:58.049061",
     "status": "completed"
    },
    "tags": []
   },
   "outputs": [
    {
     "name": "stdout",
     "output_type": "stream",
     "text": [
      "313/313 [==============================] - 1s 3ms/step - loss: 0.0845 - accuracy: 0.9719\n",
      "Test accuracy on fully augmented test set: 0.9718999862670898\n"
     ]
    }
   ],
   "source": [
    "# Adjust the brightness factor low = .1 high = 1.5\n",
    "brightness_factor = 1.5  # Set the desired brightness factor, original = 1\n",
    "brightened_test_images = apply_brightness(test_images, brightness_factor)\n",
    "\n",
    "# Adjust the blur radius low = 0 high = 1\n",
    "blur_radius = 1  # Set the desired blur radius, original = 0 \n",
    "blurred_and_brightened_test_images = apply_blur(brightened_test_images, blur_radius)\n",
    "\n",
    "# Adjust the noise factor low = 0 high = .1\n",
    "noise_factor = 0.1  # Set the desired noise factor, original = 0\n",
    "noisy_blurred_and_brightened_test_images = apply_noise(blurred_and_brightened_test_images, noise_factor)\n",
    "\n",
    "# Adjust the contrast factor low = 2 high = 5\n",
    "contrast_factor = 5  # Set the desired contrast factor, original = 1\n",
    "final_augmented_test_images = apply_contrast(noisy_blurred_and_brightened_test_images, contrast_factor)\n",
    "\n",
    "# Ensure that the final augmented test images have the correct shape\n",
    "final_augmented_test_images_with_channel = np.expand_dims(final_augmented_test_images, axis=-1)\n",
    "\n",
    "# Evaluate the model on the fully augmented test set\n",
    "test_loss_augmented, test_acc_augmented = model.evaluate(final_augmented_test_images_with_channel, test_labels)\n",
    "print(f'Test accuracy on fully augmented test set: {test_acc_augmented}')"
   ]
  },
  {
   "cell_type": "code",
   "execution_count": 10,
   "id": "316a76dd",
   "metadata": {
    "execution": {
     "iopub.execute_input": "2023-12-17T07:42:03.875173Z",
     "iopub.status.busy": "2023-12-17T07:42:03.874827Z",
     "iopub.status.idle": "2023-12-17T07:42:03.880856Z",
     "shell.execute_reply": "2023-12-17T07:42:03.879953Z"
    },
    "papermill": {
     "duration": 0.041273,
     "end_time": "2023-12-17T07:42:03.882866",
     "exception": false,
     "start_time": "2023-12-17T07:42:03.841593",
     "status": "completed"
    },
    "tags": []
   },
   "outputs": [
    {
     "data": {
      "text/plain": [
       "(10000, 28, 28)"
      ]
     },
     "execution_count": 10,
     "metadata": {},
     "output_type": "execute_result"
    }
   ],
   "source": [
    "brightened_test_images.shape"
   ]
  },
  {
   "cell_type": "code",
   "execution_count": 11,
   "id": "a7f98143",
   "metadata": {
    "execution": {
     "iopub.execute_input": "2023-12-17T07:42:03.949064Z",
     "iopub.status.busy": "2023-12-17T07:42:03.948282Z",
     "iopub.status.idle": "2023-12-17T07:42:03.953752Z",
     "shell.execute_reply": "2023-12-17T07:42:03.952866Z"
    },
    "papermill": {
     "duration": 0.040588,
     "end_time": "2023-12-17T07:42:03.955603",
     "exception": false,
     "start_time": "2023-12-17T07:42:03.915015",
     "status": "completed"
    },
    "tags": []
   },
   "outputs": [
    {
     "data": {
      "text/plain": [
       "(10000, 28, 28)"
      ]
     },
     "execution_count": 11,
     "metadata": {},
     "output_type": "execute_result"
    }
   ],
   "source": [
    "blurred_and_brightened_test_images.shape"
   ]
  },
  {
   "cell_type": "code",
   "execution_count": 12,
   "id": "e4fd0f29",
   "metadata": {
    "execution": {
     "iopub.execute_input": "2023-12-17T07:42:04.022085Z",
     "iopub.status.busy": "2023-12-17T07:42:04.021541Z",
     "iopub.status.idle": "2023-12-17T07:42:04.027030Z",
     "shell.execute_reply": "2023-12-17T07:42:04.026195Z"
    },
    "papermill": {
     "duration": 0.040658,
     "end_time": "2023-12-17T07:42:04.028850",
     "exception": false,
     "start_time": "2023-12-17T07:42:03.988192",
     "status": "completed"
    },
    "tags": []
   },
   "outputs": [
    {
     "data": {
      "text/plain": [
       "(10000, 28, 28)"
      ]
     },
     "execution_count": 12,
     "metadata": {},
     "output_type": "execute_result"
    }
   ],
   "source": [
    "noisy_blurred_and_brightened_test_images.shape"
   ]
  },
  {
   "cell_type": "code",
   "execution_count": 13,
   "id": "8361b562",
   "metadata": {
    "execution": {
     "iopub.execute_input": "2023-12-17T07:42:04.095132Z",
     "iopub.status.busy": "2023-12-17T07:42:04.094882Z",
     "iopub.status.idle": "2023-12-17T07:42:04.099946Z",
     "shell.execute_reply": "2023-12-17T07:42:04.099134Z"
    },
    "papermill": {
     "duration": 0.040501,
     "end_time": "2023-12-17T07:42:04.101993",
     "exception": false,
     "start_time": "2023-12-17T07:42:04.061492",
     "status": "completed"
    },
    "tags": []
   },
   "outputs": [
    {
     "data": {
      "text/plain": [
       "(10000, 28, 28)"
      ]
     },
     "execution_count": 13,
     "metadata": {},
     "output_type": "execute_result"
    }
   ],
   "source": [
    "final_augmented_test_images.shape"
   ]
  },
  {
   "cell_type": "code",
   "execution_count": 14,
   "id": "e39b4ea2",
   "metadata": {
    "execution": {
     "iopub.execute_input": "2023-12-17T07:42:04.169272Z",
     "iopub.status.busy": "2023-12-17T07:42:04.168542Z",
     "iopub.status.idle": "2023-12-17T07:42:04.174204Z",
     "shell.execute_reply": "2023-12-17T07:42:04.173378Z"
    },
    "papermill": {
     "duration": 0.041233,
     "end_time": "2023-12-17T07:42:04.175999",
     "exception": false,
     "start_time": "2023-12-17T07:42:04.134766",
     "status": "completed"
    },
    "tags": []
   },
   "outputs": [
    {
     "data": {
      "text/plain": [
       "(10000, 28, 28, 1)"
      ]
     },
     "execution_count": 14,
     "metadata": {},
     "output_type": "execute_result"
    }
   ],
   "source": [
    "final_augmented_test_images_with_channel.shape"
   ]
  },
  {
   "cell_type": "code",
   "execution_count": 15,
   "id": "7684f97d",
   "metadata": {
    "execution": {
     "iopub.execute_input": "2023-12-17T07:42:04.242996Z",
     "iopub.status.busy": "2023-12-17T07:42:04.242417Z",
     "iopub.status.idle": "2023-12-17T07:42:04.471083Z",
     "shell.execute_reply": "2023-12-17T07:42:04.470176Z"
    },
    "papermill": {
     "duration": 0.264195,
     "end_time": "2023-12-17T07:42:04.472939",
     "exception": false,
     "start_time": "2023-12-17T07:42:04.208744",
     "status": "completed"
    },
    "tags": []
   },
   "outputs": [
    {
     "data": {
      "image/png": "[encoded data removed]",
      "text/plain": [
       "<Figure size 640x480 with 1 Axes>"
      ]
     },
     "metadata": {},
     "output_type": "display_data"
    }
   ],
   "source": [
    "plotData = brightened_test_images[0,:,:]\n",
    "plotData = plotData.reshape(28, 28)\n",
    "plt.gray() # use this line if you don't want to see it in color\n",
    "plt.imshow(plotData)\n",
    "plt.show()"
   ]
  },
  {
   "cell_type": "code",
   "execution_count": 16,
   "id": "e6f80030",
   "metadata": {
    "execution": {
     "iopub.execute_input": "2023-12-17T07:42:04.542474Z",
     "iopub.status.busy": "2023-12-17T07:42:04.541932Z",
     "iopub.status.idle": "2023-12-17T07:42:04.770107Z",
     "shell.execute_reply": "2023-12-17T07:42:04.769265Z"
    },
    "papermill": {
     "duration": 0.264156,
     "end_time": "2023-12-17T07:42:04.772064",
     "exception": false,
     "start_time": "2023-12-17T07:42:04.507908",
     "status": "completed"
    },
    "tags": []
   },
   "outputs": [
    {
     "data": {
      "image/png": "[encoded data removed]",
      "text/plain": [
       "<Figure size 640x480 with 1 Axes>"
      ]
     },
     "metadata": {},
     "output_type": "display_data"
    }
   ],
   "source": [
    "plotData = blurred_and_brightened_test_images[0,:,:]\n",
    "plotData = plotData.reshape(28, 28)\n",
    "plt.gray() # use this line if you don't want to see it in color\n",
    "plt.imshow(plotData)\n",
    "plt.show()"
   ]
  },
  {
   "cell_type": "code",
   "execution_count": 17,
   "id": "1c731a23",
   "metadata": {
    "execution": {
     "iopub.execute_input": "2023-12-17T07:42:04.840671Z",
     "iopub.status.busy": "2023-12-17T07:42:04.840189Z",
     "iopub.status.idle": "2023-12-17T07:42:05.064544Z",
     "shell.execute_reply": "2023-12-17T07:42:05.063731Z"
    },
    "papermill": {
     "duration": 0.260551,
     "end_time": "2023-12-17T07:42:05.066530",
     "exception": false,
     "start_time": "2023-12-17T07:42:04.805979",
     "status": "completed"
    },
    "tags": []
   },
   "outputs": [
    {
     "data": {
      "image/png": "[encoded data removed]",
      "text/plain": [
       "<Figure size 640x480 with 1 Axes>"
      ]
     },
     "metadata": {},
     "output_type": "display_data"
    }
   ],
   "source": [
    "plotData = noisy_blurred_and_brightened_test_images[0,:,:]\n",
    "plotData = plotData.reshape(28, 28)\n",
    "plt.gray() # use this line if you don't want to see it in color\n",
    "plt.imshow(plotData)\n",
    "plt.show()"
   ]
  },
  {
   "cell_type": "code",
   "execution_count": 18,
   "id": "0921330d",
   "metadata": {
    "execution": {
     "iopub.execute_input": "2023-12-17T07:42:05.135209Z",
     "iopub.status.busy": "2023-12-17T07:42:05.134639Z",
     "iopub.status.idle": "2023-12-17T07:42:05.294134Z",
     "shell.execute_reply": "2023-12-17T07:42:05.293163Z"
    },
    "papermill": {
     "duration": 0.196149,
     "end_time": "2023-12-17T07:42:05.296155",
     "exception": false,
     "start_time": "2023-12-17T07:42:05.100006",
     "status": "completed"
    },
    "tags": []
   },
   "outputs": [
    {
     "data": {
      "image/png": "[encoded data removed]",
      "text/plain": [
       "<Figure size 640x480 with 1 Axes>"
      ]
     },
     "metadata": {},
     "output_type": "display_data"
    }
   ],
   "source": [
    "plotData = final_augmented_test_images[0,:,:]\n",
    "plotData = plotData.reshape(28, 28)\n",
    "plt.gray() # use this line if you don't want to see it in color\n",
    "plt.imshow(plotData)\n",
    "plt.show()"
   ]
  },
  {
   "cell_type": "code",
   "execution_count": 19,
   "id": "1bffe9e8",
   "metadata": {
    "execution": {
     "iopub.execute_input": "2023-12-17T07:42:05.372224Z",
     "iopub.status.busy": "2023-12-17T07:42:05.371906Z",
     "iopub.status.idle": "2023-12-17T07:42:05.607408Z",
     "shell.execute_reply": "2023-12-17T07:42:05.606456Z"
    },
    "papermill": {
     "duration": 0.277508,
     "end_time": "2023-12-17T07:42:05.609351",
     "exception": false,
     "start_time": "2023-12-17T07:42:05.331843",
     "status": "completed"
    },
    "tags": []
   },
   "outputs": [
    {
     "data": {
      "image/png": "[encoded data removed]",
      "text/plain": [
       "<Figure size 640x480 with 1 Axes>"
      ]
     },
     "metadata": {},
     "output_type": "display_data"
    }
   ],
   "source": [
    "plotData = final_augmented_test_images_with_channel[0,:,:,0]\n",
    "plotData = plotData.reshape(28, 28)\n",
    "plt.gray() # use this line if you don't want to see it in color\n",
    "plt.imshow(plotData)\n",
    "plt.show()"
   ]
  },
  {
   "cell_type": "code",
   "execution_count": 20,
   "id": "6f13102e",
   "metadata": {
    "execution": {
     "iopub.execute_input": "2023-12-17T07:42:05.679810Z",
     "iopub.status.busy": "2023-12-17T07:42:05.679482Z",
     "iopub.status.idle": "2023-12-17T07:42:05.684042Z",
     "shell.execute_reply": "2023-12-17T07:42:05.683131Z"
    },
    "papermill": {
     "duration": 0.042079,
     "end_time": "2023-12-17T07:42:05.686050",
     "exception": false,
     "start_time": "2023-12-17T07:42:05.643971",
     "status": "completed"
    },
    "tags": []
   },
   "outputs": [],
   "source": [
    "def displayMNIST(imageAsArray):\n",
    "    imageAsArray = imageAsArray.reshape(28, 28);\n",
    "    plt.imshow(imageAsArray, cmap='gray')\n",
    "    plt.show()"
   ]
  },
  {
   "cell_type": "code",
   "execution_count": 21,
   "id": "4906cef4",
   "metadata": {
    "execution": {
     "iopub.execute_input": "2023-12-17T07:42:05.755046Z",
     "iopub.status.busy": "2023-12-17T07:42:05.754762Z",
     "iopub.status.idle": "2023-12-17T07:42:05.983928Z",
     "shell.execute_reply": "2023-12-17T07:42:05.982971Z"
    },
    "papermill": {
     "duration": 0.266128,
     "end_time": "2023-12-17T07:42:05.985967",
     "exception": false,
     "start_time": "2023-12-17T07:42:05.719839",
     "status": "completed"
    },
    "tags": []
   },
   "outputs": [
    {
     "data": {
      "image/png": "[encoded data removed]",
      "text/plain": [
       "<Figure size 640x480 with 1 Axes>"
      ]
     },
     "metadata": {},
     "output_type": "display_data"
    }
   ],
   "source": [
    "displayMNIST(final_augmented_test_images[1,:,:])\n"
   ]
  }
 ],
 "metadata": {
  "kaggle": {
   "accelerator": "nvidiaTeslaT4",
   "dataSources": [],
   "dockerImageVersionId": 30616,
   "isGpuEnabled": true,
   "isInternetEnabled": true,
   "language": "python",
   "sourceType": "notebook"
  },
  "kernelspec": {
   "display_name": "Python 3",
   "language": "python",
   "name": "python3"
  },
  "language_info": {
   "codemirror_mode": {
    "name": "ipython",
    "version": 3
   },
   "file_extension": ".py",
   "mimetype": "text/x-python",
   "name": "python",
   "nbconvert_exporter": "python",
   "pygments_lexer": "ipython3",
   "version": "3.10.12"
  },
  "papermill": {
   "default_parameters": {},
   "duration": 68.713067,
   "end_time": "2023-12-17T07:42:09.494633",
   "environment_variables": {},
   "exception": null,
   "input_path": "__notebook__.ipynb",
   "output_path": "__notebook__.ipynb",
   "parameters": {},
   "start_time": "2023-12-17T07:41:00.781566",
   "version": "2.4.0"
  }
 },
 "nbformat": 4,
 "nbformat_minor": 5
}
