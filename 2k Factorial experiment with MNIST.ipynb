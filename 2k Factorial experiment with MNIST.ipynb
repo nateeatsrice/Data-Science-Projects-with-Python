{
 "cells": [
  {
   "cell_type": "code",
   "execution_count": 1,
   "id": "fcdd8b1e",
   "metadata": {
    "execution": {
     "iopub.execute_input": "2024-01-18T05:18:27.166654Z",
     "iopub.status.busy": "2024-01-18T05:18:27.166389Z",
     "iopub.status.idle": "2024-01-18T05:18:40.910374Z",
     "shell.execute_reply": "2024-01-18T05:18:40.909532Z"
    },
    "papermill": {
     "duration": 13.754033,
     "end_time": "2024-01-18T05:18:40.912659",
     "exception": false,
     "start_time": "2024-01-18T05:18:27.158626",
     "status": "completed"
    },
    "tags": []
   },
   "outputs": [
    {
     "name": "stderr",
     "output_type": "stream",
     "text": [
      "/opt/conda/lib/python3.10/site-packages/scipy/__init__.py:146: UserWarning: A NumPy version >=1.16.5 and <1.23.0 is required for this version of SciPy (detected version 1.24.3\n",
      "  warnings.warn(f\"A NumPy version >={np_minversion} and <{np_maxversion}\"\n"
     ]
    }
   ],
   "source": [
    "# This Python 3 environment comes with many helpful analytics libraries installed\n",
    "# It is defined by the kaggle/python Docker image: https://github.com/kaggle/docker-python\n",
    "# For example, here's several helpful packages to load\n",
    "\n",
    "import numpy as np # linear algebra\n",
    "import pandas as pd # data processing, CSV file I/O (e.g. pd.read_csv)\n",
    "import matplotlib.pyplot as plt\n",
    "import tensorflow as tf\n",
    "from tensorflow.keras import layers, models\n",
    "from tensorflow.keras.datasets import mnist\n",
    "from tensorflow.keras.utils import to_categorical\n",
    "from tensorflow.keras.preprocessing.image import ImageDataGenerator\n",
    "from PIL import Image, ImageEnhance, ImageFilter\n",
    "import numpy as np\n",
    "# Input data files are available in the read-only \"../input/\" directory\n",
    "# For example, running this (by clicking run or pressing Shift+Enter) will list all files under the input directory\n",
    "\n",
    "import os\n",
    "for dirname, _, filenames in os.walk('/kaggle/input'):\n",
    "    for filename in filenames:\n",
    "        print(os.path.join(dirname, filename))\n",
    "\n",
    "# You can write up to 20GB to the current directory (/kaggle/working/) that gets preserved as output when you create a version using \"Save & Run All\" \n",
    "# You can also write temporary files to /kaggle/temp/, but they won't be saved outside of the current session\n"
   ]
  },
  {
   "cell_type": "code",
   "execution_count": 2,
   "id": "1e39877f",
   "metadata": {
    "execution": {
     "iopub.execute_input": "2024-01-18T05:18:40.926701Z",
     "iopub.status.busy": "2024-01-18T05:18:40.926185Z",
     "iopub.status.idle": "2024-01-18T05:18:41.556199Z",
     "shell.execute_reply": "2024-01-18T05:18:41.555241Z"
    },
    "papermill": {
     "duration": 0.639728,
     "end_time": "2024-01-18T05:18:41.558884",
     "exception": false,
     "start_time": "2024-01-18T05:18:40.919156",
     "status": "completed"
    },
    "tags": []
   },
   "outputs": [
    {
     "name": "stdout",
     "output_type": "stream",
     "text": [
      "Downloading data from https://storage.googleapis.com/tensorflow/tf-keras-datasets/mnist.npz\n",
      "11490434/11490434 [==============================] - 0s 0us/step\n"
     ]
    }
   ],
   "source": [
    "# Load and preprocess the MNIST dataset\n",
    "(train_images, train_labels), (test_images, test_labels) = mnist.load_data()\n",
    "train_images = train_images.reshape((60000, 28, 28, 1)).astype('float32') / 255\n",
    "test_images = test_images.reshape((10000, 28, 28, 1)).astype('float32') / 255\n",
    "\n",
    "train_labels = to_categorical(train_labels)\n",
    "test_labels = to_categorical(test_labels)\n"
   ]
  },
  {
   "cell_type": "code",
   "execution_count": 3,
   "id": "14dcc2d1",
   "metadata": {
    "execution": {
     "iopub.execute_input": "2024-01-18T05:18:41.574575Z",
     "iopub.status.busy": "2024-01-18T05:18:41.574282Z",
     "iopub.status.idle": "2024-01-18T05:19:04.973488Z",
     "shell.execute_reply": "2024-01-18T05:19:04.972347Z"
    },
    "papermill": {
     "duration": 23.409446,
     "end_time": "2024-01-18T05:19:04.975911",
     "exception": false,
     "start_time": "2024-01-18T05:18:41.566465",
     "status": "completed"
    },
    "tags": []
   },
   "outputs": [
    {
     "name": "stdout",
     "output_type": "stream",
     "text": [
      "Epoch 1/5\n",
      "750/750 [==============================] - 8s 5ms/step - loss: 0.2215 - accuracy: 0.9320 - val_loss: 0.0753 - val_accuracy: 0.9768\n",
      "Epoch 2/5\n",
      "750/750 [==============================] - 3s 4ms/step - loss: 0.0573 - accuracy: 0.9820 - val_loss: 0.0472 - val_accuracy: 0.9860\n",
      "Epoch 3/5\n",
      "750/750 [==============================] - 3s 4ms/step - loss: 0.0388 - accuracy: 0.9874 - val_loss: 0.0536 - val_accuracy: 0.9843\n",
      "Epoch 4/5\n",
      "750/750 [==============================] - 3s 4ms/step - loss: 0.0302 - accuracy: 0.9902 - val_loss: 0.0445 - val_accuracy: 0.9877\n",
      "Epoch 5/5\n",
      "750/750 [==============================] - 3s 4ms/step - loss: 0.0228 - accuracy: 0.9925 - val_loss: 0.0464 - val_accuracy: 0.9874\n",
      "313/313 [==============================] - 1s 3ms/step - loss: 0.0402 - accuracy: 0.9859\n",
      "Test accuracy: 0.9858999848365784\n"
     ]
    }
   ],
   "source": [
    "# Build the basic neural network model\n",
    "model = models.Sequential()\n",
    "model.add(layers.Conv2D(32, (3, 3), activation='relu', input_shape=(28, 28, 1)))\n",
    "model.add(layers.MaxPooling2D((2, 2)))\n",
    "model.add(layers.Conv2D(64, (3, 3), activation='relu'))\n",
    "model.add(layers.MaxPooling2D((2, 2)))\n",
    "model.add(layers.Conv2D(64, (3, 3), activation='relu'))\n",
    "model.add(layers.Flatten())\n",
    "model.add(layers.Dense(64, activation='relu'))\n",
    "model.add(layers.Dense(10, activation='softmax'))\n",
    "\n",
    "# Compile the model\n",
    "model.compile(optimizer='adam',\n",
    "              loss='categorical_crossentropy',\n",
    "              metrics=['accuracy'])\n",
    "\n",
    "# Train the model\n",
    "model.fit(train_images, train_labels, epochs=5, batch_size=64, validation_split=0.2)\n",
    "\n",
    "# Evaluate the model on the test set\n",
    "test_loss, test_acc = model.evaluate(test_images, test_labels)\n",
    "print(f'Test accuracy: {test_acc}')"
   ]
  },
  {
   "cell_type": "code",
   "execution_count": 4,
   "id": "7e8c7f10",
   "metadata": {
    "execution": {
     "iopub.execute_input": "2024-01-18T05:19:05.043522Z",
     "iopub.status.busy": "2024-01-18T05:19:05.042626Z",
     "iopub.status.idle": "2024-01-18T05:19:05.302516Z",
     "shell.execute_reply": "2024-01-18T05:19:05.301620Z"
    },
    "papermill": {
     "duration": 0.294786,
     "end_time": "2024-01-18T05:19:05.304529",
     "exception": false,
     "start_time": "2024-01-18T05:19:05.009743",
     "status": "completed"
    },
    "tags": []
   },
   "outputs": [
    {
     "data": {
      "image/png": "[encoded data removed]",
      "text/plain": [
       "<Figure size 640x480 with 1 Axes>"
      ]
     },
     "metadata": {},
     "output_type": "display_data"
    }
   ],
   "source": [
    "plotData = test_images[0,:,:,:]\n",
    "plotData = plotData.reshape(28, 28)\n",
    "plt.gray() # use this line if you don't want to see it in color\n",
    "plt.imshow(plotData)\n",
    "plt.show()"
   ]
  },
  {
   "cell_type": "code",
   "execution_count": 5,
   "id": "6792cdff",
   "metadata": {
    "execution": {
     "iopub.execute_input": "2024-01-18T05:19:05.368301Z",
     "iopub.status.busy": "2024-01-18T05:19:05.367999Z",
     "iopub.status.idle": "2024-01-18T05:19:05.372514Z",
     "shell.execute_reply": "2024-01-18T05:19:05.371544Z"
    },
    "papermill": {
     "duration": 0.038361,
     "end_time": "2024-01-18T05:19:05.374452",
     "exception": false,
     "start_time": "2024-01-18T05:19:05.336091",
     "status": "completed"
    },
    "tags": []
   },
   "outputs": [],
   "source": [
    "# brightness_value = 1000  # Set your desired brightness value (between 0 and 1)\n",
    "# #saturation_value = 0.5  # Set your desired saturation value (between 0 and 1)\n",
    "\n",
    "# test_datagen = ImageDataGenerator(\n",
    "#     brightness_range=[brightness_value, brightness_value],\n",
    "#     #saturation_range=[saturation_value, saturation_value],\n",
    "# )\n",
    "# batch_size=64\n",
    "# augmented_test_data = test_datagen.flow(test_images, test_labels, batch_size=batch_size, shuffle=False)\n",
    "\n",
    "# # Evaluate the model on the augmented test set\n",
    "# test_loss_augmented, test_acc_augmented = model.evaluate(augmented_test_data)\n",
    "# print(f'Test accuracy on augmented test set: {test_acc_augmented}')\n"
   ]
  },
  {
   "cell_type": "code",
   "execution_count": 6,
   "id": "c8e2b89e",
   "metadata": {
    "execution": {
     "iopub.execute_input": "2024-01-18T05:19:05.434586Z",
     "iopub.status.busy": "2024-01-18T05:19:05.434298Z",
     "iopub.status.idle": "2024-01-18T05:19:05.444010Z",
     "shell.execute_reply": "2024-01-18T05:19:05.443162Z"
    },
    "papermill": {
     "duration": 0.042793,
     "end_time": "2024-01-18T05:19:05.446263",
     "exception": false,
     "start_time": "2024-01-18T05:19:05.403470",
     "status": "completed"
    },
    "tags": []
   },
   "outputs": [],
   "source": [
    "# Function to apply brightness using Pillow\n",
    "def apply_brightness(images, factor=1.5):\n",
    "    brightened_images = [ImageEnhance.Brightness(Image.fromarray(np.squeeze(image * 255).astype('uint8'))).enhance(factor) for image in images]\n",
    "    return np.array([np.array(image) / 255.0 for image in brightened_images])\n",
    "\n",
    "# Function to apply blur using Pillow\n",
    "def apply_blur(images, radius=2):\n",
    "    blurred_images = [Image.fromarray(np.squeeze(image * 255).astype('uint8')).filter(ImageFilter.GaussianBlur(radius)) for image in images]\n",
    "    return np.array([np.array(image) / 255.0 for image in blurred_images])\n",
    "\n",
    "# Function to apply noise using Pillow\n",
    "def apply_noise(images, factor=0.2):\n",
    "    noisy_images = [np.clip(image + factor * np.random.normal(loc=0, scale=1, size=image.shape), 0, 1.0) for image in images]\n",
    "    return np.array(noisy_images)\n",
    "\n",
    "# Function to apply contrast using Pillow\n",
    "def apply_contrast(images, factor=1.5):\n",
    "    enhanced_images = [ImageEnhance.Contrast(Image.fromarray(np.squeeze(image * 255).astype('uint8'))).enhance(factor) for image in images]\n",
    "    return np.array([np.array(image) / 255.0 for image in enhanced_images])\n",
    "\n"
   ]
  },
  {
   "cell_type": "code",
   "execution_count": 7,
   "id": "3775b901",
   "metadata": {
    "execution": {
     "iopub.execute_input": "2024-01-18T05:19:05.507269Z",
     "iopub.status.busy": "2024-01-18T05:19:05.506990Z",
     "iopub.status.idle": "2024-01-18T05:19:05.513214Z",
     "shell.execute_reply": "2024-01-18T05:19:05.512346Z"
    },
    "papermill": {
     "duration": 0.03815,
     "end_time": "2024-01-18T05:19:05.515103",
     "exception": false,
     "start_time": "2024-01-18T05:19:05.476953",
     "status": "completed"
    },
    "tags": []
   },
   "outputs": [],
   "source": [
    "def augment_data(brightness_factor,blur_radius,noise_factor, contrast_factor):\n",
    "    # Adjust the brightness factor\n",
    "    brightness_factor = brightness_factor  # Set the desired brightness factor, original = 1\n",
    "    brightened_test_images = apply_brightness(test_images, brightness_factor)\n",
    "\n",
    "    # Adjust the blur radius\n",
    "    blur_radius = blur_radius  # Set the desired blur radius, original = 0 \n",
    "    blurred_and_brightened_test_images = apply_blur(brightened_test_images, blur_radius)\n",
    "\n",
    "    # Adjust the noise factor\n",
    "    noise_factor = noise_factor  # Set the desired noise factor, original = 0\n",
    "    noisy_blurred_and_brightened_test_images = apply_noise(blurred_and_brightened_test_images, noise_factor)\n",
    "\n",
    "    # Adjust the contrast factor\n",
    "    contrast_factor = contrast_factor  # Set the desired contrast factor, original = 1\n",
    "    final_augmented_test_images = apply_contrast(noisy_blurred_and_brightened_test_images, contrast_factor)\n",
    "\n",
    "    # Ensure that the final augmented test images have the correct shape\n",
    "    final_augmented_test_images_with_channel = np.expand_dims(final_augmented_test_images, axis=-1)\n",
    "\n",
    "    # Evaluate the model on the fully augmented test set\n",
    "    test_loss_augmented, test_acc_augmented = model.evaluate(final_augmented_test_images_with_channel, test_labels)\n",
    "    print(f'Test accuracy on fully augmented test set: {test_acc_augmented}')"
   ]
  },
  {
   "cell_type": "code",
   "execution_count": 8,
   "id": "81b2f3b9",
   "metadata": {
    "execution": {
     "iopub.execute_input": "2024-01-18T05:19:05.575440Z",
     "iopub.status.busy": "2024-01-18T05:19:05.575172Z",
     "iopub.status.idle": "2024-01-18T05:19:11.681805Z",
     "shell.execute_reply": "2024-01-18T05:19:11.680825Z"
    },
    "papermill": {
     "duration": 6.139643,
     "end_time": "2024-01-18T05:19:11.684103",
     "exception": false,
     "start_time": "2024-01-18T05:19:05.544460",
     "status": "completed"
    },
    "tags": []
   },
   "outputs": [
    {
     "name": "stdout",
     "output_type": "stream",
     "text": [
      "313/313 [==============================] - 1s 3ms/step - loss: 5.4108 - accuracy: 0.0999\n",
      "Test accuracy on fully augmented test set: 0.09989999979734421\n"
     ]
    }
   ],
   "source": [
    "augment_data(1.5,.1,10,1.5)"
   ]
  },
  {
   "cell_type": "code",
   "execution_count": 9,
   "id": "5181184b",
   "metadata": {
    "execution": {
     "iopub.execute_input": "2024-01-18T05:19:11.748723Z",
     "iopub.status.busy": "2024-01-18T05:19:11.747891Z",
     "iopub.status.idle": "2024-01-18T05:19:17.534982Z",
     "shell.execute_reply": "2024-01-18T05:19:17.534074Z"
    },
    "papermill": {
     "duration": 5.821679,
     "end_time": "2024-01-18T05:19:17.536892",
     "exception": false,
     "start_time": "2024-01-18T05:19:11.715213",
     "status": "completed"
    },
    "tags": []
   },
   "outputs": [
    {
     "name": "stdout",
     "output_type": "stream",
     "text": [
      "313/313 [==============================] - 1s 2ms/step - loss: 0.1425 - accuracy: 0.9579\n",
      "Test accuracy on fully augmented test set: 0.9578999876976013\n"
     ]
    }
   ],
   "source": [
    "# Adjust the brightness factor low = .1 high = 1.5\n",
    "brightness_factor = 1.5  # Set the desired brightness factor, original = 1\n",
    "brightened_test_images = apply_brightness(test_images, brightness_factor)\n",
    "\n",
    "# Adjust the blur radius low = 0 high = 1\n",
    "blur_radius = 1  # Set the desired blur radius, original = 0 \n",
    "blurred_and_brightened_test_images = apply_blur(brightened_test_images, blur_radius)\n",
    "\n",
    "# Adjust the noise factor low = 0 high = .1\n",
    "noise_factor = 0.1  # Set the desired noise factor, original = 0\n",
    "noisy_blurred_and_brightened_test_images = apply_noise(blurred_and_brightened_test_images, noise_factor)\n",
    "\n",
    "# Adjust the contrast factor low = 2 high = 5\n",
    "contrast_factor = 5  # Set the desired contrast factor, original = 1\n",
    "final_augmented_test_images = apply_contrast(noisy_blurred_and_brightened_test_images, contrast_factor)\n",
    "\n",
    "# Ensure that the final augmented test images have the correct shape\n",
    "final_augmented_test_images_with_channel = np.expand_dims(final_augmented_test_images, axis=-1)\n",
    "\n",
    "# Evaluate the model on the fully augmented test set\n",
    "test_loss_augmented, test_acc_augmented = model.evaluate(final_augmented_test_images_with_channel, test_labels)\n",
    "print(f'Test accuracy on fully augmented test set: {test_acc_augmented}')"
   ]
  },
  {
   "cell_type": "code",
   "execution_count": 10,
   "id": "30c3891c",
   "metadata": {
    "execution": {
     "iopub.execute_input": "2024-01-18T05:19:17.645980Z",
     "iopub.status.busy": "2024-01-18T05:19:17.645199Z",
     "iopub.status.idle": "2024-01-18T05:19:17.651099Z",
     "shell.execute_reply": "2024-01-18T05:19:17.650328Z"
    },
    "papermill": {
     "duration": 0.042467,
     "end_time": "2024-01-18T05:19:17.653098",
     "exception": false,
     "start_time": "2024-01-18T05:19:17.610631",
     "status": "completed"
    },
    "tags": []
   },
   "outputs": [
    {
     "data": {
      "text/plain": [
       "(10000, 28, 28)"
      ]
     },
     "execution_count": 10,
     "metadata": {},
     "output_type": "execute_result"
    }
   ],
   "source": [
    "brightened_test_images.shape"
   ]
  },
  {
   "cell_type": "code",
   "execution_count": 11,
   "id": "3428fab5",
   "metadata": {
    "execution": {
     "iopub.execute_input": "2024-01-18T05:19:17.722083Z",
     "iopub.status.busy": "2024-01-18T05:19:17.721495Z",
     "iopub.status.idle": "2024-01-18T05:19:17.727465Z",
     "shell.execute_reply": "2024-01-18T05:19:17.726475Z"
    },
    "papermill": {
     "duration": 0.043304,
     "end_time": "2024-01-18T05:19:17.729592",
     "exception": false,
     "start_time": "2024-01-18T05:19:17.686288",
     "status": "completed"
    },
    "tags": []
   },
   "outputs": [
    {
     "data": {
      "text/plain": [
       "(10000, 28, 28)"
      ]
     },
     "execution_count": 11,
     "metadata": {},
     "output_type": "execute_result"
    }
   ],
   "source": [
    "blurred_and_brightened_test_images.shape"
   ]
  },
  {
   "cell_type": "code",
   "execution_count": 12,
   "id": "b3804c44",
   "metadata": {
    "execution": {
     "iopub.execute_input": "2024-01-18T05:19:17.798789Z",
     "iopub.status.busy": "2024-01-18T05:19:17.798335Z",
     "iopub.status.idle": "2024-01-18T05:19:17.803777Z",
     "shell.execute_reply": "2024-01-18T05:19:17.802873Z"
    },
    "papermill": {
     "duration": 0.0405,
     "end_time": "2024-01-18T05:19:17.805697",
     "exception": false,
     "start_time": "2024-01-18T05:19:17.765197",
     "status": "completed"
    },
    "tags": []
   },
   "outputs": [
    {
     "data": {
      "text/plain": [
       "(10000, 28, 28)"
      ]
     },
     "execution_count": 12,
     "metadata": {},
     "output_type": "execute_result"
    }
   ],
   "source": [
    "noisy_blurred_and_brightened_test_images.shape"
   ]
  },
  {
   "cell_type": "code",
   "execution_count": 13,
   "id": "c10348e6",
   "metadata": {
    "execution": {
     "iopub.execute_input": "2024-01-18T05:19:17.873806Z",
     "iopub.status.busy": "2024-01-18T05:19:17.873103Z",
     "iopub.status.idle": "2024-01-18T05:19:17.878652Z",
     "shell.execute_reply": "2024-01-18T05:19:17.877821Z"
    },
    "papermill": {
     "duration": 0.04191,
     "end_time": "2024-01-18T05:19:17.880475",
     "exception": false,
     "start_time": "2024-01-18T05:19:17.838565",
     "status": "completed"
    },
    "tags": []
   },
   "outputs": [
    {
     "data": {
      "text/plain": [
       "(10000, 28, 28)"
      ]
     },
     "execution_count": 13,
     "metadata": {},
     "output_type": "execute_result"
    }
   ],
   "source": [
    "final_augmented_test_images.shape"
   ]
  },
  {
   "cell_type": "code",
   "execution_count": 14,
   "id": "c1bacbc5",
   "metadata": {
    "execution": {
     "iopub.execute_input": "2024-01-18T05:19:17.950150Z",
     "iopub.status.busy": "2024-01-18T05:19:17.949484Z",
     "iopub.status.idle": "2024-01-18T05:19:17.954972Z",
     "shell.execute_reply": "2024-01-18T05:19:17.954150Z"
    },
    "papermill": {
     "duration": 0.042003,
     "end_time": "2024-01-18T05:19:17.956911",
     "exception": false,
     "start_time": "2024-01-18T05:19:17.914908",
     "status": "completed"
    },
    "tags": []
   },
   "outputs": [
    {
     "data": {
      "text/plain": [
       "(10000, 28, 28, 1)"
      ]
     },
     "execution_count": 14,
     "metadata": {},
     "output_type": "execute_result"
    }
   ],
   "source": [
    "final_augmented_test_images_with_channel.shape"
   ]
  },
  {
   "cell_type": "code",
   "execution_count": 15,
   "id": "bfde7587",
   "metadata": {
    "execution": {
     "iopub.execute_input": "2024-01-18T05:19:18.025243Z",
     "iopub.status.busy": "2024-01-18T05:19:18.024681Z",
     "iopub.status.idle": "2024-01-18T05:19:18.196248Z",
     "shell.execute_reply": "2024-01-18T05:19:18.195416Z"
    },
    "papermill": {
     "duration": 0.207959,
     "end_time": "2024-01-18T05:19:18.198333",
     "exception": false,
     "start_time": "2024-01-18T05:19:17.990374",
     "status": "completed"
    },
    "tags": []
   },
   "outputs": [
    {
     "data": {
      "image/png": "[encoded data removed]",
      "text/plain": [
       "<Figure size 640x480 with 1 Axes>"
      ]
     },
     "metadata": {},
     "output_type": "display_data"
    }
   ],
   "source": [
    "plotData = brightened_test_images[0,:,:]\n",
    "plotData = plotData.reshape(28, 28)\n",
    "plt.gray() # use this line if you don't want to see it in color\n",
    "plt.imshow(plotData)\n",
    "plt.show()"
   ]
  },
  {
   "cell_type": "code",
   "execution_count": 16,
   "id": "559a05d6",
   "metadata": {
    "execution": {
     "iopub.execute_input": "2024-01-18T05:19:18.268300Z",
     "iopub.status.busy": "2024-01-18T05:19:18.268013Z",
     "iopub.status.idle": "2024-01-18T05:19:18.437291Z",
     "shell.execute_reply": "2024-01-18T05:19:18.436406Z"
    },
    "papermill": {
     "duration": 0.205938,
     "end_time": "2024-01-18T05:19:18.439859",
     "exception": false,
     "start_time": "2024-01-18T05:19:18.233921",
     "status": "completed"
    },
    "tags": []
   },
   "outputs": [
    {
     "data": {
      "image/png": "[encoded data removed]",
      "text/plain": [
       "<Figure size 640x480 with 1 Axes>"
      ]
     },
     "metadata": {},
     "output_type": "display_data"
    }
   ],
   "source": [
    "plotData = blurred_and_brightened_test_images[0,:,:]\n",
    "plotData = plotData.reshape(28, 28)\n",
    "plt.gray() # use this line if you don't want to see it in color\n",
    "plt.imshow(plotData)\n",
    "plt.show()"
   ]
  },
  {
   "cell_type": "code",
   "execution_count": 17,
   "id": "234e6617",
   "metadata": {
    "execution": {
     "iopub.execute_input": "2024-01-18T05:19:18.508466Z",
     "iopub.status.busy": "2024-01-18T05:19:18.508174Z",
     "iopub.status.idle": "2024-01-18T05:19:18.742833Z",
     "shell.execute_reply": "2024-01-18T05:19:18.741874Z"
    },
    "papermill": {
     "duration": 0.271406,
     "end_time": "2024-01-18T05:19:18.745041",
     "exception": false,
     "start_time": "2024-01-18T05:19:18.473635",
     "status": "completed"
    },
    "tags": []
   },
   "outputs": [
    {
     "data": {
      "image/png": "[encoded data removed]",
      "text/plain": [
       "<Figure size 640x480 with 1 Axes>"
      ]
     },
     "metadata": {},
     "output_type": "display_data"
    }
   ],
   "source": [
    "plotData = noisy_blurred_and_brightened_test_images[0,:,:]\n",
    "plotData = plotData.reshape(28, 28)\n",
    "plt.gray() # use this line if you don't want to see it in color\n",
    "plt.imshow(plotData)\n",
    "plt.show()"
   ]
  },
  {
   "cell_type": "code",
   "execution_count": 18,
   "id": "f7118c33",
   "metadata": {
    "execution": {
     "iopub.execute_input": "2024-01-18T05:19:18.814405Z",
     "iopub.status.busy": "2024-01-18T05:19:18.814143Z",
     "iopub.status.idle": "2024-01-18T05:19:19.041676Z",
     "shell.execute_reply": "2024-01-18T05:19:19.040793Z"
    },
    "papermill": {
     "duration": 0.264293,
     "end_time": "2024-01-18T05:19:19.043720",
     "exception": false,
     "start_time": "2024-01-18T05:19:18.779427",
     "status": "completed"
    },
    "tags": []
   },
   "outputs": [
    {
     "data": {
      "image/png": "[encoded data removed]",
      "text/plain": [
       "<Figure size 640x480 with 1 Axes>"
      ]
     },
     "metadata": {},
     "output_type": "display_data"
    }
   ],
   "source": [
    "plotData = final_augmented_test_images[0,:,:]\n",
    "plotData = plotData.reshape(28, 28)\n",
    "plt.gray() # use this line if you don't want to see it in color\n",
    "plt.imshow(plotData)\n",
    "plt.show()"
   ]
  },
  {
   "cell_type": "code",
   "execution_count": 19,
   "id": "b102d03b",
   "metadata": {
    "execution": {
     "iopub.execute_input": "2024-01-18T05:19:19.115032Z",
     "iopub.status.busy": "2024-01-18T05:19:19.114403Z",
     "iopub.status.idle": "2024-01-18T05:19:19.339633Z",
     "shell.execute_reply": "2024-01-18T05:19:19.338776Z"
    },
    "papermill": {
     "duration": 0.263115,
     "end_time": "2024-01-18T05:19:19.341599",
     "exception": false,
     "start_time": "2024-01-18T05:19:19.078484",
     "status": "completed"
    },
    "tags": []
   },
   "outputs": [
    {
     "data": {
      "image/png": "[encoded data removed]",
      "text/plain": [
       "<Figure size 640x480 with 1 Axes>"
      ]
     },
     "metadata": {},
     "output_type": "display_data"
    }
   ],
   "source": [
    "plotData = final_augmented_test_images_with_channel[0,:,:,0]\n",
    "plotData = plotData.reshape(28, 28)\n",
    "plt.gray() # use this line if you don't want to see it in color\n",
    "plt.imshow(plotData)\n",
    "plt.show()"
   ]
  },
  {
   "cell_type": "code",
   "execution_count": 20,
   "id": "e23103a2",
   "metadata": {
    "execution": {
     "iopub.execute_input": "2024-01-18T05:19:19.412434Z",
     "iopub.status.busy": "2024-01-18T05:19:19.412152Z",
     "iopub.status.idle": "2024-01-18T05:19:19.416693Z",
     "shell.execute_reply": "2024-01-18T05:19:19.415938Z"
    },
    "papermill": {
     "duration": 0.041734,
     "end_time": "2024-01-18T05:19:19.418539",
     "exception": false,
     "start_time": "2024-01-18T05:19:19.376805",
     "status": "completed"
    },
    "tags": []
   },
   "outputs": [],
   "source": [
    "def displayMNIST(imageAsArray):\n",
    "    imageAsArray = imageAsArray.reshape(28, 28);\n",
    "    plt.imshow(imageAsArray, cmap='gray')\n",
    "    plt.show()"
   ]
  },
  {
   "cell_type": "code",
   "execution_count": 21,
   "id": "d7487c37",
   "metadata": {
    "execution": {
     "iopub.execute_input": "2024-01-18T05:19:19.490558Z",
     "iopub.status.busy": "2024-01-18T05:19:19.490261Z",
     "iopub.status.idle": "2024-01-18T05:19:19.742496Z",
     "shell.execute_reply": "2024-01-18T05:19:19.741665Z"
    },
    "papermill": {
     "duration": 0.2908,
     "end_time": "2024-01-18T05:19:19.744650",
     "exception": false,
     "start_time": "2024-01-18T05:19:19.453850",
     "status": "completed"
    },
    "tags": []
   },
   "outputs": [
    {
     "data": {
      "image/png": "[encoded data removed]",
      "text/plain": [
       "<Figure size 640x480 with 1 Axes>"
      ]
     },
     "metadata": {},
     "output_type": "display_data"
    }
   ],
   "source": [
    "displayMNIST(final_augmented_test_images[1,:,:])\n"
   ]
  }
 ],
 "metadata": {
  "kaggle": {
   "accelerator": "nvidiaTeslaT4",
   "dataSources": [],
   "dockerImageVersionId": 30616,
   "isGpuEnabled": true,
   "isInternetEnabled": true,
   "language": "python",
   "sourceType": "notebook"
  },
  "kernelspec": {
   "display_name": "Python 3",
   "language": "python",
   "name": "python3"
  },
  "language_info": {
   "codemirror_mode": {
    "name": "ipython",
    "version": 3
   },
   "file_extension": ".py",
   "mimetype": "text/x-python",
   "name": "python",
   "nbconvert_exporter": "python",
   "pygments_lexer": "ipython3",
   "version": "3.10.12"
  },
  "papermill": {
   "default_parameters": {},
   "duration": 58.79031,
   "end_time": "2024-01-18T05:19:22.271262",
   "environment_variables": {},
   "exception": null,
   "input_path": "__notebook__.ipynb",
   "output_path": "__notebook__.ipynb",
   "parameters": {},
   "start_time": "2024-01-18T05:18:23.480952",
   "version": "2.4.0"
  }
 },
 "nbformat": 4,
 "nbformat_minor": 5
}
